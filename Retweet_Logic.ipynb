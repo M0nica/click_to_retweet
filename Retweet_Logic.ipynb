{
 "cells": [
  {
   "cell_type": "code",
   "execution_count": 45,
   "metadata": {
    "collapsed": false,
    "deletable": true,
    "editable": true
   },
   "outputs": [],
   "source": [
    "from twython import Twython, TwythonError\n",
    "import config\n",
    "\n",
    "# create a Twython object by passing the necessary secret passwords\n",
    "twitter = Twython(config.api_key, config.api_secret, config.access_token, config.token_secret)\n",
    "\n"
   ]
  },
  {
   "cell_type": "code",
   "execution_count": 46,
   "metadata": {
    "collapsed": false,
    "deletable": true,
    "editable": true
   },
   "outputs": [
    {
     "name": "stdout",
     "output_type": "stream",
     "text": [
      "Twitter Search: #TheJopwellCollection\n",
      "Shout out to <a href=\"https://twitter.com/Jopwell\" class=\"twython-mention\">@Jopwell</a> ⚡️ “A New Wave Of Stock Photography: Introducing <a href=\"https://twitter.com/search?q=%23TheJopwellCollection\" class=\"twython-hashtag\">#TheJopwellCollection</a>”\n",
      "\n",
      "<a href=\"https://t.co/h8NekilUR6\" class=\"twython-url\">twitter.com/i/moments/8497…</a> 849736634769620992\n",
      "⚡️ “A New Wave Of Stock Photography: Introducing <a href=\"https://twitter.com/search?q=%23TheJopwellCollection\" class=\"twython-hashtag\">#TheJopwellCollection</a>”\n",
      "\n",
      "<a href=\"https://t.co/7tZG87ocYX\" class=\"twython-url\">twitter.com/i/moments/8497…</a> 849736113287835653\n",
      "What does your workplace look like? Picture diversity. <a href=\"https://twitter.com/search?q=%23TheJopwellCollection\" class=\"twython-hashtag\">#TheJopwellCollection</a> <a href=\"https://twitter.com/lindseydayy\" class=\"twython-mention\">@lindseydayy</a> <a href=\"https://twitter.com/MHMwrites\" class=\"twython-mention\">@MHMwrites</a>… <a href=\"https://t.co/6Y5YpaEhQM\" class=\"twython-url\">twitter.com/i/web/status/8…</a> 849730874337763328\n",
      "<a href=\"https://twitter.com/search?q=%23TheJopwellCollection\" class=\"twython-hashtag\">#TheJopwellCollection</a>: 100+ free-to-download stock photos featuring leaders in the Jopwell community at work. <a href=\"https://t.co/bKWk6PYbW0\" class=\"twython-url\">ow.ly/Qn4S30aBdR1</a> <a href=\"https://twitter.com/search?q=%23tech\" class=\"twython-hashtag\">#tech</a> 849729631724949504\n",
      "Excited to announce our latest initiative, <a href=\"https://twitter.com/search?q=%23TheJopwellCollection\" class=\"twython-hashtag\">#TheJopwellCollection</a>: promoting diversity thru stock photos <a href=\"https://twitter.com/zingzang14\" class=\"twython-mention\">@zingzang14</a>… <a href=\"https://t.co/n88TS6aZ14\" class=\"twython-url\">twitter.com/i/web/status/8…</a> 849671493185404928\n"
     ]
    }
   ],
   "source": [
    "# return tweets cotaining #BlackGirlMagic, mix of recent and popular tweets\n",
    "def getTweets(word_to_search):\n",
    "    response = twitter.search(q=word_to_search + \" -filter:retweets\", result_type=\"recent\", count=5)\n",
    "    try:\n",
    "        for tweet in response['statuses']:\n",
    "            tweet['text'] = Twython.html_for_tweet(tweet)\n",
    "            print(tweet[\"text\"], tweet[\"id_str\"])\n",
    "\n",
    "    except TwythonError as e:\n",
    "        print(e)\n",
    "\n",
    "word_to_search = input(\"Twitter Search: \")\n",
    "getTweets(word_to_search)\n"
   ]
  },
  {
   "cell_type": "code",
   "execution_count": 47,
   "metadata": {
    "collapsed": false
   },
   "outputs": [
    {
     "name": "stdout",
     "output_type": "stream",
     "text": [
      "\u001b[H\u001b[2J"
     ]
    }
   ],
   "source": [
    "clear()"
   ]
  },
  {
   "cell_type": "code",
   "execution_count": null,
   "metadata": {
    "collapsed": true
   },
   "outputs": [],
   "source": []
  }
 ],
 "metadata": {
  "kernelspec": {
   "display_name": "Python 3",
   "language": "python",
   "name": "python3"
  },
  "language_info": {
   "codemirror_mode": {
    "name": "ipython",
    "version": 3
   },
   "file_extension": ".py",
   "mimetype": "text/x-python",
   "name": "python",
   "nbconvert_exporter": "python",
   "pygments_lexer": "ipython3",
   "version": "3.6.0"
  }
 },
 "nbformat": 4,
 "nbformat_minor": 2
}
